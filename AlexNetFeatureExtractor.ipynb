{
 "cells": [
  {
   "cell_type": "code",
   "execution_count": 1,
   "metadata": {},
   "outputs": [
    {
     "name": "stderr",
     "output_type": "stream",
     "text": [
      "/home/siddharth/anaconda3/lib/python3.10/site-packages/torchvision/io/image.py:13: UserWarning: Failed to load image Python extension: '/home/siddharth/anaconda3/lib/python3.10/site-packages/torchvision/image.so: undefined symbol: _ZN5torch3jit17parseSchemaOrNameERKSs'If you don't plan on using image functionality from `torchvision.io`, you can ignore this warning. Otherwise, there might be something wrong with your environment. Did you have `libjpeg` or `libpng` installed before building `torchvision` from source?\n",
      "  warn(\n"
     ]
    }
   ],
   "source": [
    "import pandas as pd\n",
    "import torch\n",
    "import torch.nn as nn\n",
    "import torchvision.models as models\n",
    "import torchvision.transforms as transforms\n",
    "from torch.utils.data import DataLoader, Dataset\n",
    "from sklearn.model_selection import train_test_split\n",
    "from sklearn.metrics import accuracy_score, f1_score\n",
    "import glob\n",
    "import cv2\n",
    "import numpy as np\n",
    "\n",
    "from tqdm import tqdm\n",
    "import time\n",
    "\n",
    "device = torch.device('cuda' if torch.cuda.is_available() else 'cpu')"
   ]
  },
  {
   "cell_type": "markdown",
   "metadata": {},
   "source": [
    "### Class to load the images"
   ]
  },
  {
   "cell_type": "code",
   "execution_count": 2,
   "metadata": {},
   "outputs": [],
   "source": [
    "class ImageProvider():\n",
    "    def __init__(self, image_paths):\n",
    "        \n",
    "        self.images = []\n",
    "        for path in image_paths:\n",
    "            \n",
    "            img = cv2.imread(path)\n",
    "            resized_img = cv2.resize(img, (224,224), interpolation=cv2.INTER_AREA)\n",
    "            self.images.append(resized_img)\n",
    "    \n",
    "    def getImages(self):\n",
    "\n",
    "        return self.images"
   ]
  },
  {
   "cell_type": "markdown",
   "metadata": {},
   "source": [
    "### Class to convert the images to correct size "
   ]
  },
  {
   "cell_type": "code",
   "execution_count": 3,
   "metadata": {},
   "outputs": [],
   "source": [
    "class CustomDataset(Dataset):\n",
    "    def __init__(self, images, transform=None):\n",
    "        self.images = images\n",
    "        self.transform = transform\n",
    "\n",
    "    def __len__(self):\n",
    "        return len(self.images)\n",
    "\n",
    "    def __getitem__(self, idx):\n",
    "        image = self.images[idx]\n",
    "\n",
    "        if self.transform:\n",
    "            image = self.transform(image)\n",
    "\n",
    "        return image"
   ]
  },
  {
   "cell_type": "markdown",
   "metadata": {},
   "source": [
    "### Data class for actual training and testing"
   ]
  },
  {
   "cell_type": "code",
   "execution_count": 4,
   "metadata": {},
   "outputs": [],
   "source": [
    "class Data(Dataset):\n",
    "    def __init__(self,data):\n",
    "\n",
    "        n = data.shape[1]\n",
    "        self.features = torch.tensor(data.iloc[:, 0:n-1].values.astype(np.int64), dtype=torch.float32)\n",
    "        self.labels = torch.tensor(data.iloc[:, -1].values.astype(np.int64), dtype=torch.int64)\n",
    "\n",
    "    def __getitem__(self, index):\n",
    "        return self.features[index], self.labels[index]\n",
    "\n",
    "    def __len__(self):\n",
    "        return len(self.features)"
   ]
  },
  {
   "cell_type": "markdown",
   "metadata": {},
   "source": [
    "### Classifier model class"
   ]
  },
  {
   "cell_type": "code",
   "execution_count": 5,
   "metadata": {},
   "outputs": [],
   "source": [
    "class Classifier(nn.Module):\n",
    "    def __init__(self, input_size, hidden_size, output_size, dropout:float = 0.3):\n",
    "        super().__init__()\n",
    "\n",
    "        self.layer1 = self.layer1 = nn.Sequential(\n",
    "            nn.Linear(in_features=input_size, out_features=hidden_size),\n",
    "            nn.ReLU(),\n",
    "            nn.BatchNorm1d(hidden_size),\n",
    "            nn.Dropout(dropout),\n",
    "        )\n",
    "        \n",
    "        self.output_layer = nn.Linear(in_features=hidden_size, out_features=output_size)\n",
    "\n",
    "    def forward(self, x):\n",
    "        \n",
    "        x = self.layer1(x)\n",
    "        x = self.output_layer(x)\n",
    "\n",
    "        return x"
   ]
  },
  {
   "cell_type": "markdown",
   "metadata": {},
   "source": [
    "### Alexnet model parameters"
   ]
  },
  {
   "cell_type": "code",
   "execution_count": 6,
   "metadata": {},
   "outputs": [
    {
     "name": "stderr",
     "output_type": "stream",
     "text": [
      "/home/siddharth/anaconda3/lib/python3.10/site-packages/torchvision/models/_utils.py:208: UserWarning: The parameter 'pretrained' is deprecated since 0.13 and may be removed in the future, please use 'weights' instead.\n",
      "  warnings.warn(\n",
      "/home/siddharth/anaconda3/lib/python3.10/site-packages/torchvision/models/_utils.py:223: UserWarning: Arguments other than a weight enum or `None` for 'weights' are deprecated since 0.13 and may be removed in the future. The current behavior is equivalent to passing `weights=AlexNet_Weights.IMAGENET1K_V1`. You can also use `weights=AlexNet_Weights.DEFAULT` to get the most up-to-date weights.\n",
      "  warnings.warn(msg)\n"
     ]
    }
   ],
   "source": [
    "# Load pre-trained AlexNet model\n",
    "alexnet_model = models.alexnet(pretrained=True)\n",
    "alexnet_model.eval()  # Set the model to evaluation mode\n",
    "\n",
    "# Remove the classification layer of AlexNet\n",
    "alexnet_model = nn.Sequential(*list(alexnet_model.children())[:-1])\n",
    "\n",
    "# Freeze the parameters of the feature extractor\n",
    "for param in alexnet_model.parameters():\n",
    "    param.requires_grad = False"
   ]
  },
  {
   "cell_type": "markdown",
   "metadata": {},
   "source": [
    "### Getting the images and labels"
   ]
  },
  {
   "cell_type": "code",
   "execution_count": 7,
   "metadata": {},
   "outputs": [
    {
     "name": "stdout",
     "output_type": "stream",
     "text": [
      "['./BikeHorses/Bikes/0066.jpg', './BikeHorses/Bikes/0052.jpg', './BikeHorses/Bikes/0031.jpg', './BikeHorses/Bikes/0046.jpg', './BikeHorses/Bikes/0018.jpg', './BikeHorses/Bikes/0045.jpg', './BikeHorses/Bikes/0064.jpg', './BikeHorses/Bikes/0049.jpg', './BikeHorses/Bikes/0070.jpg', './BikeHorses/Bikes/0061.jpg', './BikeHorses/Bikes/0032.jpg', './BikeHorses/Bikes/0050.jpg', './BikeHorses/Bikes/0010.jpg', './BikeHorses/Bikes/0047.jpg', './BikeHorses/Bikes/0044.jpg', './BikeHorses/Bikes/0053.jpg', './BikeHorses/Bikes/0062.jpg', './BikeHorses/Bikes/0038.jpg', './BikeHorses/Bikes/0072.jpg', './BikeHorses/Bikes/0063.jpg', './BikeHorses/Bikes/0043.jpg', './BikeHorses/Bikes/0019.jpg', './BikeHorses/Bikes/0012.jpg', './BikeHorses/Bikes/0079.jpg', './BikeHorses/Bikes/0054.jpg', './BikeHorses/Bikes/0020.jpg', './BikeHorses/Bikes/0008.jpg', './BikeHorses/Bikes/0056.jpg', './BikeHorses/Bikes/0035.jpg', './BikeHorses/Bikes/0057.jpg', './BikeHorses/Bikes/0080.jpg', './BikeHorses/Bikes/0075.jpg', './BikeHorses/Bikes/0014.jpg', './BikeHorses/Bikes/0027.jpg', './BikeHorses/Bikes/0037.jpg', './BikeHorses/Bikes/0034.jpg', './BikeHorses/Bikes/0055.jpg', './BikeHorses/Bikes/0028.jpg', './BikeHorses/Bikes/0033.jpg', './BikeHorses/Bikes/0051.jpg', './BikeHorses/Bikes/0077.jpg', './BikeHorses/Bikes/0013.jpg', './BikeHorses/Bikes/0071.jpg', './BikeHorses/Bikes/0067.jpg', './BikeHorses/Bikes/0060.jpg', './BikeHorses/Bikes/0005.jpg', './BikeHorses/Bikes/0024.jpg', './BikeHorses/Bikes/0021.jpg', './BikeHorses/Bikes/0023.jpg', './BikeHorses/Bikes/0073.jpg', './BikeHorses/Bikes/0011.jpg', './BikeHorses/Bikes/0017.jpg', './BikeHorses/Bikes/0016.jpg', './BikeHorses/Bikes/0065.jpg', './BikeHorses/Bikes/0026.jpg', './BikeHorses/Bikes/0001.jpg', './BikeHorses/Bikes/0042.jpg', './BikeHorses/Bikes/0030.jpg', './BikeHorses/Bikes/0006.jpg', './BikeHorses/Bikes/0004.jpg', './BikeHorses/Bikes/0002.jpg', './BikeHorses/Bikes/0074.jpg', './BikeHorses/Bikes/0058.jpg', './BikeHorses/Bikes/0059.jpg', './BikeHorses/Bikes/0069.jpg', './BikeHorses/Bikes/0048.jpg', './BikeHorses/Bikes/0036.jpg', './BikeHorses/Bikes/0068.jpg', './BikeHorses/Bikes/0078.jpg', './BikeHorses/Bikes/0040.jpg', './BikeHorses/Bikes/0029.jpg', './BikeHorses/Bikes/0041.jpg', './BikeHorses/Bikes/0025.jpg', './BikeHorses/Bikes/0076.jpg', './BikeHorses/Bikes/0007.jpg', './BikeHorses/Bikes/0003.jpg', './BikeHorses/Bikes/0015.jpg', './BikeHorses/Bikes/0039.jpg', './BikeHorses/Bikes/0009.jpg', './BikeHorses/Bikes/0022.jpg', './BikeHorses/Horses/horse76.jpg', './BikeHorses/Horses/horse21.jpg', './BikeHorses/Horses/horse40.jpg', './BikeHorses/Horses/horse44.jpg', './BikeHorses/Horses/horse1  (44).jpg', './BikeHorses/Horses/horse56.jpg', './BikeHorses/Horses/horse28.jpg', './BikeHorses/Horses/horse58.jpg', './BikeHorses/Horses/horse80.jpg', './BikeHorses/Horses/horse31.jpg', './BikeHorses/Horses/horse2 .jpg', './BikeHorses/Horses/horse63.jpg', './BikeHorses/Horses/horse42.jpg', './BikeHorses/Horses/horse60.jpg', './BikeHorses/Horses/horse75.jpg', './BikeHorses/Horses/horse1  (33).jpg', './BikeHorses/Horses/horse74.jpg', './BikeHorses/Horses/horse73.jpg', './BikeHorses/Horses/horse1  (6).jpg', './BikeHorses/Horses/horse57.jpg', './BikeHorses/Horses/horse77.jpg', './BikeHorses/Horses/horse64.jpg', './BikeHorses/Horses/horse22.jpg', './BikeHorses/Horses/horse78.jpg', './BikeHorses/Horses/horse3 .jpg', './BikeHorses/Horses/horse4 .jpg', './BikeHorses/Horses/horse1 .jpg', './BikeHorses/Horses/horse7 .jpg', './BikeHorses/Horses/horse1  (8).jpg', './BikeHorses/Horses/horse81.jpg', './BikeHorses/Horses/horse1  (43).jpg', './BikeHorses/Horses/horse71.jpg', './BikeHorses/Horses/horse1  (5).jpg', './BikeHorses/Horses/horse51.jpg', './BikeHorses/Horses/horse29.jpg', './BikeHorses/Horses/horse66.jpg', './BikeHorses/Horses/horse1  (15).jpg', './BikeHorses/Horses/horse25.jpg', './BikeHorses/Horses/horse6 .jpg', './BikeHorses/Horses/horse55.jpg', './BikeHorses/Horses/horse1  (24).jpg', './BikeHorses/Horses/h2.jpg', './BikeHorses/Horses/horse15.jpg', './BikeHorses/Horses/horse47.jpg', './BikeHorses/Horses/horse1  (26).jpg', './BikeHorses/Horses/horse1  (12).jpg', './BikeHorses/Horses/horse10.jpg', './BikeHorses/Horses/horse1  (37).jpg', './BikeHorses/Horses/horse18.jpg', './BikeHorses/Horses/horse8 .jpg', './BikeHorses/Horses/horse70.jpg', './BikeHorses/Horses/horse24.jpg', './BikeHorses/Horses/horse1  (31).jpg', './BikeHorses/Horses/horse53.jpg', './BikeHorses/Horses/horse72.jpg', './BikeHorses/Horses/horse62.jpg', './BikeHorses/Horses/horse37.jpg', './BikeHorses/Horses/h1.jpg', './BikeHorses/Horses/horse11.jpg', './BikeHorses/Horses/horse67.jpg', './BikeHorses/Horses/horse32.jpg', './BikeHorses/Horses/horse12.jpg', './BikeHorses/Horses/horse30.jpg', './BikeHorses/Horses/horse41.jpg', './BikeHorses/Horses/horse59.jpg', './BikeHorses/Horses/horse36.jpg', './BikeHorses/Horses/horse1  (45).jpg', './BikeHorses/Horses/horse17.jpg', './BikeHorses/Horses/horse27.jpg', './BikeHorses/Horses/horse49.jpg', './BikeHorses/Horses/horse52.jpg', './BikeHorses/Horses/horse35.jpg', './BikeHorses/Horses/horse20.jpg', './BikeHorses/Horses/horse16.jpg', './BikeHorses/Horses/horse68.jpg', './BikeHorses/Horses/horse54.jpg', './BikeHorses/Horses/horse13.jpg', './BikeHorses/Horses/horse38.jpg', './BikeHorses/Horses/horse45.jpg', './BikeHorses/Horses/horse1  (17).jpg', './BikeHorses/Horses/horse14.jpg', './BikeHorses/Horses/horse48.jpg', './BikeHorses/Horses/horse43.jpg', './BikeHorses/Horses/horse61.jpg', './BikeHorses/Horses/horse26.jpg', './BikeHorses/Horses/horse23.jpg', './BikeHorses/Horses/horse69.jpg', './BikeHorses/Horses/horse33.jpg', './BikeHorses/Horses/horse46.jpg', './BikeHorses/Horses/horse1  (32).jpg', './BikeHorses/Horses/horse1  (7).jpg', './BikeHorses/Horses/horse19.jpg', './BikeHorses/Horses/horse9 .jpg', './BikeHorses/Horses/horse5 .jpg', './BikeHorses/Horses/horse50.jpg', './BikeHorses/Horses/horse79.jpg', './BikeHorses/Horses/horse34.jpg', './BikeHorses/Horses/horse39.jpg', './BikeHorses/Horses/horse65.jpg']\n",
      "[0, 0, 0, 0, 0, 0, 0, 0, 0, 0, 0, 0, 0, 0, 0, 0, 0, 0, 0, 0, 0, 0, 0, 0, 0, 0, 0, 0, 0, 0, 0, 0, 0, 0, 0, 0, 0, 0, 0, 0, 0, 0, 0, 0, 0, 0, 0, 0, 0, 0, 0, 0, 0, 0, 0, 0, 0, 0, 0, 0, 0, 0, 0, 0, 0, 0, 0, 0, 0, 0, 0, 0, 0, 0, 0, 0, 0, 0, 0, 0, 1, 1, 1, 1, 1, 1, 1, 1, 1, 1, 1, 1, 1, 1, 1, 1, 1, 1, 1, 1, 1, 1, 1, 1, 1, 1, 1, 1, 1, 1, 1, 1, 1, 1, 1, 1, 1, 1, 1, 1, 1, 1, 1, 1, 1, 1, 1, 1, 1, 1, 1, 1, 1, 1, 1, 1, 1, 1, 1, 1, 1, 1, 1, 1, 1, 1, 1, 1, 1, 1, 1, 1, 1, 1, 1, 1, 1, 1, 1, 1, 1, 1, 1, 1, 1, 1, 1, 1, 1, 1, 1, 1, 1, 1, 1, 1, 1, 1, 1]\n"
     ]
    }
   ],
   "source": [
    "objects = [\"Bikes\", \"Horses\"]\n",
    "\n",
    "image_paths = []  \n",
    "labels = []\n",
    "label = 0\n",
    "\n",
    "for object in objects:\n",
    "    string = f\"./BikeHorses/{object}/*.jpg\"\n",
    "\n",
    "    files = glob.glob(string, recursive = True)\n",
    "    image_paths.extend(files)\n",
    "\n",
    "    labels_temp = [label]*len(files)\n",
    "    labels.extend(labels_temp)\n",
    "\n",
    "    label+=1\n",
    "\n",
    "print(image_paths)\n",
    "print(labels)"
   ]
  },
  {
   "cell_type": "markdown",
   "metadata": {},
   "source": [
    "### Converting the images to features from AlexNet"
   ]
  },
  {
   "cell_type": "code",
   "execution_count": 8,
   "metadata": {},
   "outputs": [],
   "source": [
    "provider = ImageProvider(image_paths)\n",
    "\n",
    "reqd_images = provider.getImages()\n",
    "\n",
    "# Define transformations for preprocessing images\n",
    "transform = transforms.Compose([\n",
    "    transforms.ToTensor()\n",
    "])\n",
    "\n",
    "full_dataset = CustomDataset(reqd_images, transform=transform)\n",
    "full_loader = DataLoader(full_dataset, batch_size=1, shuffle=False)"
   ]
  },
  {
   "cell_type": "code",
   "execution_count": 9,
   "metadata": {},
   "outputs": [
    {
     "name": "stdout",
     "output_type": "stream",
     "text": [
      "(179, 9216)\n",
      "(179,)\n"
     ]
    }
   ],
   "source": [
    "# Extract features for all images\n",
    "all_features = []\n",
    "\n",
    "with torch.no_grad():\n",
    "    for images in full_loader:\n",
    "        features = alexnet_model(images)\n",
    "        features = np.reshape(features.squeeze(), -1)\n",
    "        all_features.append(features)\n",
    "\n",
    "all_features = np.array(all_features)\n",
    "print(all_features.shape)\n",
    "labels = np.array(labels)\n",
    "print(labels.shape)"
   ]
  },
  {
   "cell_type": "markdown",
   "metadata": {},
   "source": [
    "### Train Test Split to train model"
   ]
  },
  {
   "cell_type": "code",
   "execution_count": 10,
   "metadata": {},
   "outputs": [],
   "source": [
    "X_train, X_test, y_train, y_test = train_test_split(all_features, labels, test_size=0.2, random_state=42)"
   ]
  },
  {
   "cell_type": "code",
   "execution_count": 11,
   "metadata": {},
   "outputs": [],
   "source": [
    "X_train = pd.DataFrame(X_train)\n",
    "Y_train = pd.DataFrame(y_train)\n",
    "X_test = pd.DataFrame(X_test)\n",
    "Y_test = pd.DataFrame(y_test)\n",
    "\n",
    "X_train = pd.concat([X_train, Y_train], axis=1)\n",
    "X_test = pd.concat([X_test, Y_test], axis=1)"
   ]
  },
  {
   "cell_type": "code",
   "execution_count": 12,
   "metadata": {},
   "outputs": [],
   "source": [
    "train_dataset = Data(data=X_train)\n",
    "test_dataset = Data(data=X_test)\n",
    "\n",
    "train_dataloader = DataLoader(dataset=train_dataset, batch_size=128, shuffle=True)\n",
    "test_dataloader = DataLoader(dataset=test_dataset, batch_size=128, shuffle=True)"
   ]
  },
  {
   "cell_type": "markdown",
   "metadata": {},
   "source": [
    "### Parameters of the model"
   ]
  },
  {
   "cell_type": "code",
   "execution_count": 13,
   "metadata": {},
   "outputs": [
    {
     "name": "stdout",
     "output_type": "stream",
     "text": [
      "9216\n"
     ]
    }
   ],
   "source": [
    "input_size = all_features.shape[1]\n",
    "print(input_size)\n",
    "hidden_size = 256  # Adjust this as needed\n",
    "num_classes = 2\n",
    "\n",
    "classifier = Classifier(input_size, hidden_size, num_classes)\n",
    "\n",
    "# Define loss function and optimizer\n",
    "criterion = nn.CrossEntropyLoss()\n",
    "optimizer = torch.optim.Adam(classifier.parameters(), lr=0.001)\n",
    "\n",
    "sanity_check=False\n",
    "n_epochs = 5"
   ]
  },
  {
   "cell_type": "markdown",
   "metadata": {},
   "source": [
    "### Helper functions for Training and Validation"
   ]
  },
  {
   "cell_type": "code",
   "execution_count": 14,
   "metadata": {},
   "outputs": [],
   "source": [
    "def train_epoch(model, dataloader, optimiser, criterion):\n",
    "    model.train()\n",
    "\n",
    "    for batch in tqdm(dataloader):\n",
    "        x, y = batch[0], batch[1]\n",
    "\n",
    "        output = model(x)\n",
    "        output = nn.Softmax(dim=-1)(output)\n",
    "        loss = criterion(output, y)\n",
    "\n",
    "        optimiser.zero_grad()\n",
    "        loss.backward()\n",
    "        optimiser.step()\n",
    "\n",
    "        if sanity_check:\n",
    "            break"
   ]
  },
  {
   "cell_type": "code",
   "execution_count": 15,
   "metadata": {},
   "outputs": [],
   "source": [
    "def validate(\n",
    "    model,\n",
    "    dataloader,\n",
    "    criterion\n",
    "):\n",
    "    model.eval()\n",
    "    total_loss = 0\n",
    "    predictions = []\n",
    "    truths = []\n",
    "\n",
    "    with torch.no_grad():\n",
    "        for batch in tqdm(dataloader):\n",
    "            x, y = batch[0], batch[1]\n",
    "\n",
    "            output = model(x)\n",
    "            output = nn.Softmax(dim=-1)(output)\n",
    "            loss = criterion(output, y)\n",
    "            total_loss += loss.detach().cpu().item()/len(dataloader)\n",
    "\n",
    "            preds = torch.argmax(output, dim=-1)\n",
    "            predictions.extend(preds.cpu())\n",
    "            truths.extend(y.cpu())\n",
    "\n",
    "            if sanity_check:\n",
    "                break\n",
    "\n",
    "    acc = accuracy_score(y_true=truths, y_pred=predictions)\n",
    "    f1 = f1_score(y_true=truths, y_pred=predictions, average='macro')\n",
    "\n",
    "    return total_loss, acc, f1"
   ]
  },
  {
   "cell_type": "code",
   "execution_count": 16,
   "metadata": {},
   "outputs": [],
   "source": [
    "def train_model(\n",
    "    model,\n",
    "    train_dataloader,\n",
    "    test_dataloader,\n",
    "    optimiser,\n",
    "    criterion\n",
    "):\n",
    "    for epoch in range(1, n_epochs+1):\n",
    "        start_time = time.time()\n",
    "\n",
    "        print(f\"========= EPOCH {epoch} STARTED =========\")\n",
    "        train_epoch(model=model, dataloader=train_dataloader, optimiser=optimiser, criterion=criterion)\n",
    "\n",
    "        print(f\"========= TRAIN EVALUATION STARTED =========\")\n",
    "        train_val_op = validate(model=model, dataloader=train_dataloader, criterion=criterion)\n",
    "\n",
    "        print(f\"========= TEST EVALUATION STARTED =========\")\n",
    "        test_val_op = validate(model=model, dataloader=test_dataloader, criterion=criterion)\n",
    "\n",
    "        print(f\"END OF {epoch} EPOCH\")\n",
    "        print(f\"| Time taken: {time.time() - start_time: 7.3f} |\")\n",
    "        print(f\"| Train Loss: {train_val_op[0]: 7.3f} | Train acc: {train_val_op[1]: 1.5f} | Train f1: {train_val_op[2]: 1.5f} |\")\n",
    "        print(f\"| Test Loss: {test_val_op[0]: 7.3f}  | Test acc: {test_val_op[1]: 1.5f}  | Test f1: {test_val_op[2]: 1.5f}  |\")\n",
    "\n",
    "        if sanity_check:\n",
    "            break"
   ]
  },
  {
   "cell_type": "markdown",
   "metadata": {},
   "source": [
    "### Train the model and report accuracies"
   ]
  },
  {
   "cell_type": "code",
   "execution_count": 18,
   "metadata": {},
   "outputs": [
    {
     "name": "stdout",
     "output_type": "stream",
     "text": [
      "========= EPOCH 1 STARTED =========\n"
     ]
    },
    {
     "name": "stderr",
     "output_type": "stream",
     "text": [
      "100%|██████████| 2/2 [00:00<00:00,  7.45it/s]\n"
     ]
    },
    {
     "name": "stdout",
     "output_type": "stream",
     "text": [
      "========= TRAIN EVALUATION STARTED =========\n"
     ]
    },
    {
     "name": "stderr",
     "output_type": "stream",
     "text": [
      "100%|██████████| 2/2 [00:00<00:00, 18.89it/s]\n"
     ]
    },
    {
     "name": "stdout",
     "output_type": "stream",
     "text": [
      "========= TEST EVALUATION STARTED =========\n"
     ]
    },
    {
     "name": "stderr",
     "output_type": "stream",
     "text": [
      "100%|██████████| 1/1 [00:00<00:00, 187.54it/s]\n"
     ]
    },
    {
     "name": "stdout",
     "output_type": "stream",
     "text": [
      "END OF 1 EPOCH\n",
      "| Time taken:   0.443 |\n",
      "| Train Loss:   0.315 | Train acc:  1.00000 | Train f1:  1.00000 |\n",
      "| Test Loss:   0.320  | Test acc:  1.00000  | Test f1:  1.00000  |\n",
      "========= EPOCH 2 STARTED =========\n"
     ]
    },
    {
     "name": "stderr",
     "output_type": "stream",
     "text": [
      "100%|██████████| 2/2 [00:00<00:00,  3.57it/s]\n"
     ]
    },
    {
     "name": "stdout",
     "output_type": "stream",
     "text": [
      "========= TRAIN EVALUATION STARTED =========\n"
     ]
    },
    {
     "name": "stderr",
     "output_type": "stream",
     "text": [
      "100%|██████████| 2/2 [00:00<00:00, 20.26it/s]\n"
     ]
    },
    {
     "name": "stdout",
     "output_type": "stream",
     "text": [
      "========= TEST EVALUATION STARTED =========\n"
     ]
    },
    {
     "name": "stderr",
     "output_type": "stream",
     "text": [
      "100%|██████████| 1/1 [00:00<00:00, 88.30it/s]\n"
     ]
    },
    {
     "name": "stdout",
     "output_type": "stream",
     "text": [
      "END OF 2 EPOCH\n",
      "| Time taken:   0.718 |\n",
      "| Train Loss:   0.314 | Train acc:  1.00000 | Train f1:  1.00000 |\n",
      "| Test Loss:   0.319  | Test acc:  1.00000  | Test f1:  1.00000  |\n",
      "========= EPOCH 3 STARTED =========\n"
     ]
    },
    {
     "name": "stderr",
     "output_type": "stream",
     "text": [
      "100%|██████████| 2/2 [00:00<00:00,  7.17it/s]\n"
     ]
    },
    {
     "name": "stdout",
     "output_type": "stream",
     "text": [
      "========= TRAIN EVALUATION STARTED =========\n"
     ]
    },
    {
     "name": "stderr",
     "output_type": "stream",
     "text": [
      "100%|██████████| 2/2 [00:00<00:00, 28.21it/s]\n"
     ]
    },
    {
     "name": "stdout",
     "output_type": "stream",
     "text": [
      "========= TEST EVALUATION STARTED =========\n"
     ]
    },
    {
     "name": "stderr",
     "output_type": "stream",
     "text": [
      "100%|██████████| 1/1 [00:00<00:00, 75.57it/s]\n"
     ]
    },
    {
     "name": "stdout",
     "output_type": "stream",
     "text": [
      "END OF 3 EPOCH\n",
      "| Time taken:   0.416 |\n",
      "| Train Loss:   0.313 | Train acc:  1.00000 | Train f1:  1.00000 |\n",
      "| Test Loss:   0.317  | Test acc:  1.00000  | Test f1:  1.00000  |\n",
      "========= EPOCH 4 STARTED =========\n"
     ]
    },
    {
     "name": "stderr",
     "output_type": "stream",
     "text": [
      "100%|██████████| 2/2 [00:00<00:00, 11.76it/s]\n"
     ]
    },
    {
     "name": "stdout",
     "output_type": "stream",
     "text": [
      "========= TRAIN EVALUATION STARTED =========\n"
     ]
    },
    {
     "name": "stderr",
     "output_type": "stream",
     "text": [
      "100%|██████████| 2/2 [00:00<00:00, 40.50it/s]\n"
     ]
    },
    {
     "name": "stdout",
     "output_type": "stream",
     "text": [
      "========= TEST EVALUATION STARTED =========\n"
     ]
    },
    {
     "name": "stderr",
     "output_type": "stream",
     "text": [
      "100%|██████████| 1/1 [00:00<00:00, 48.75it/s]\n"
     ]
    },
    {
     "name": "stdout",
     "output_type": "stream",
     "text": [
      "END OF 4 EPOCH\n",
      "| Time taken:   0.298 |\n",
      "| Train Loss:   0.314 | Train acc:  1.00000 | Train f1:  1.00000 |\n",
      "| Test Loss:   0.317  | Test acc:  1.00000  | Test f1:  1.00000  |\n",
      "========= EPOCH 5 STARTED =========\n"
     ]
    },
    {
     "name": "stderr",
     "output_type": "stream",
     "text": [
      "100%|██████████| 2/2 [00:00<00:00,  4.32it/s]\n"
     ]
    },
    {
     "name": "stdout",
     "output_type": "stream",
     "text": [
      "========= TRAIN EVALUATION STARTED =========\n"
     ]
    },
    {
     "name": "stderr",
     "output_type": "stream",
     "text": [
      "100%|██████████| 2/2 [00:00<00:00, 22.89it/s]\n"
     ]
    },
    {
     "name": "stdout",
     "output_type": "stream",
     "text": [
      "========= TEST EVALUATION STARTED =========\n"
     ]
    },
    {
     "name": "stderr",
     "output_type": "stream",
     "text": [
      "100%|██████████| 1/1 [00:00<00:00, 167.32it/s]"
     ]
    },
    {
     "name": "stdout",
     "output_type": "stream",
     "text": [
      "END OF 5 EPOCH\n",
      "| Time taken:   0.616 |\n",
      "| Train Loss:   0.314 | Train acc:  1.00000 | Train f1:  1.00000 |\n",
      "| Test Loss:   0.317  | Test acc:  1.00000  | Test f1:  1.00000  |\n"
     ]
    },
    {
     "name": "stderr",
     "output_type": "stream",
     "text": [
      "\n"
     ]
    }
   ],
   "source": [
    "train_model(\n",
    "    model=classifier,\n",
    "    train_dataloader=train_dataloader,\n",
    "    test_dataloader=test_dataloader,\n",
    "    optimiser=optimizer,\n",
    "    criterion=criterion\n",
    ")"
   ]
  }
 ],
 "metadata": {
  "kernelspec": {
   "display_name": "base",
   "language": "python",
   "name": "python3"
  },
  "language_info": {
   "codemirror_mode": {
    "name": "ipython",
    "version": 3
   },
   "file_extension": ".py",
   "mimetype": "text/x-python",
   "name": "python",
   "nbconvert_exporter": "python",
   "pygments_lexer": "ipython3",
   "version": "3.10.13"
  }
 },
 "nbformat": 4,
 "nbformat_minor": 2
}
