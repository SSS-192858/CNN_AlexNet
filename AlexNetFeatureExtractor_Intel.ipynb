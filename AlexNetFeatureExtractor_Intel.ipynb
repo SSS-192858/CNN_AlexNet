{
  "cells": [
    {
      "cell_type": "code",
      "execution_count": 9,
      "metadata": {
        "id": "wIz2STAgFFSQ"
      },
      "outputs": [],
      "source": [
        "import pandas as pd\n",
        "import torch\n",
        "import torch.nn as nn\n",
        "import torchvision.models as models\n",
        "import torchvision.transforms as transforms\n",
        "from torch.utils.data import DataLoader, Dataset\n",
        "from sklearn.model_selection import train_test_split\n",
        "from sklearn.metrics import accuracy_score, f1_score\n",
        "import glob\n",
        "import cv2\n",
        "import numpy as np\n",
        "\n",
        "from tqdm import tqdm\n",
        "import time\n",
        "\n",
        "device = torch.device('cuda' if torch.cuda.is_available() else 'cpu')"
      ]
    },
    {
      "cell_type": "code",
      "execution_count": 10,
      "metadata": {
        "colab": {
          "base_uri": "https://localhost:8080/"
        },
        "id": "z6A77OPPFSt_",
        "outputId": "6fd3750e-52ed-44ea-f0da-0e2f3e85dbde"
      },
      "outputs": [
        {
          "name": "stdout",
          "output_type": "stream",
          "text": [
            "Drive already mounted at /content/gdrive; to attempt to forcibly remount, call drive.mount(\"/content/gdrive\", force_remount=True).\n"
          ]
        }
      ],
      "source": [
        "from google.colab import drive\n",
        "drive.mount(\"/content/gdrive\")"
      ]
    },
    {
      "cell_type": "markdown",
      "metadata": {
        "id": "cSQRSvejFFST"
      },
      "source": [
        "### Class to load the images"
      ]
    },
    {
      "cell_type": "code",
      "execution_count": 11,
      "metadata": {
        "id": "3_CWi0R7FFSV"
      },
      "outputs": [],
      "source": [
        "class ImageProvider():\n",
        "    def __init__(self, image_paths):\n",
        "\n",
        "        self.images = []\n",
        "        for path in image_paths:\n",
        "\n",
        "            img = cv2.imread(path)\n",
        "            resized_img = cv2.resize(img, (224,224), interpolation=cv2.INTER_AREA)\n",
        "            self.images.append(resized_img)\n",
        "\n",
        "    def getImages(self):\n",
        "\n",
        "        return self.images"
      ]
    },
    {
      "cell_type": "markdown",
      "metadata": {
        "id": "OJe3lSUWFFSV"
      },
      "source": [
        "### Class to convert the images to correct size"
      ]
    },
    {
      "cell_type": "code",
      "execution_count": 12,
      "metadata": {
        "id": "iCw6X8PQFFSW"
      },
      "outputs": [],
      "source": [
        "class CustomDataset(Dataset):\n",
        "    def __init__(self, images, transform=None):\n",
        "        self.images = images\n",
        "        self.transform = transform\n",
        "\n",
        "    def __len__(self):\n",
        "        return len(self.images)\n",
        "\n",
        "    def __getitem__(self, idx):\n",
        "        image = self.images[idx]\n",
        "\n",
        "        if self.transform:\n",
        "            image = self.transform(image)\n",
        "\n",
        "        return image"
      ]
    },
    {
      "cell_type": "markdown",
      "metadata": {
        "id": "hVHGCNZVFFSW"
      },
      "source": [
        "### Data class for actual training and testing"
      ]
    },
    {
      "cell_type": "code",
      "execution_count": 13,
      "metadata": {
        "id": "e2wtwPigFFSX"
      },
      "outputs": [],
      "source": [
        "class Data(Dataset):\n",
        "    def __init__(self,data):\n",
        "\n",
        "        n = data.shape[1]\n",
        "        self.features = torch.tensor(data.iloc[:, 0:n-1].values.astype(np.int64), dtype=torch.float32)\n",
        "        self.labels = torch.tensor(data.iloc[:, -1].values.astype(np.int64), dtype=torch.int64)\n",
        "\n",
        "    def __getitem__(self, index):\n",
        "        return self.features[index], self.labels[index]\n",
        "\n",
        "    def __len__(self):\n",
        "        return len(self.features)"
      ]
    },
    {
      "cell_type": "markdown",
      "metadata": {
        "id": "5-UkjiyNFFSX"
      },
      "source": [
        "### Classifier model class"
      ]
    },
    {
      "cell_type": "code",
      "execution_count": 14,
      "metadata": {
        "id": "1dLyjfaEFFSX"
      },
      "outputs": [],
      "source": [
        "class Classifier(nn.Module):\n",
        "    def __init__(self, input_size, hidden_size, output_size, dropout:float = 0.3):\n",
        "        super().__init__()\n",
        "\n",
        "        self.layer1 = self.layer1 = nn.Sequential(\n",
        "            nn.Linear(in_features=input_size, out_features=hidden_size),\n",
        "            nn.ReLU(),\n",
        "            nn.BatchNorm1d(hidden_size),\n",
        "            nn.Dropout(dropout),\n",
        "        )\n",
        "\n",
        "        self.output_layer = nn.Linear(in_features=hidden_size, out_features=output_size)\n",
        "\n",
        "    def forward(self, x):\n",
        "\n",
        "        x = self.layer1(x)\n",
        "        x = self.output_layer(x)\n",
        "\n",
        "        return x"
      ]
    },
    {
      "cell_type": "markdown",
      "metadata": {
        "id": "A9PZcFStFFSY"
      },
      "source": [
        "### Alexnet model parameters"
      ]
    },
    {
      "cell_type": "code",
      "execution_count": 15,
      "metadata": {
        "colab": {
          "base_uri": "https://localhost:8080/"
        },
        "id": "YwCpSjYVFFSY",
        "outputId": "a9ddd040-10c1-4a00-f608-630e0a0fffe1"
      },
      "outputs": [
        {
          "name": "stderr",
          "output_type": "stream",
          "text": [
            "/usr/local/lib/python3.10/dist-packages/torchvision/models/_utils.py:208: UserWarning: The parameter 'pretrained' is deprecated since 0.13 and may be removed in the future, please use 'weights' instead.\n",
            "  warnings.warn(\n",
            "/usr/local/lib/python3.10/dist-packages/torchvision/models/_utils.py:223: UserWarning: Arguments other than a weight enum or `None` for 'weights' are deprecated since 0.13 and may be removed in the future. The current behavior is equivalent to passing `weights=AlexNet_Weights.IMAGENET1K_V1`. You can also use `weights=AlexNet_Weights.DEFAULT` to get the most up-to-date weights.\n",
            "  warnings.warn(msg)\n"
          ]
        }
      ],
      "source": [
        "# Load pre-trained AlexNet model\n",
        "alexnet_model = models.alexnet(pretrained=True)\n",
        "alexnet_model.eval()  # Set the model to evaluation mode\n",
        "\n",
        "# Remove the classification layer of AlexNet\n",
        "alexnet_model = nn.Sequential(*list(alexnet_model.children())[:-1])\n",
        "\n",
        "# Freeze the parameters of the feature extractor\n",
        "for param in alexnet_model.parameters():\n",
        "    param.requires_grad = False"
      ]
    },
    {
      "cell_type": "markdown",
      "metadata": {
        "id": "Z2cxRnoHFFSb"
      },
      "source": [
        "### Getting the images and labels"
      ]
    },
    {
      "cell_type": "code",
      "execution_count": 16,
      "metadata": {
        "id": "weEUwgf2FFSb"
      },
      "outputs": [],
      "source": [
        "objects = [\"buildings\", \"forest\", \"glacier\", \"mountain\", \"sea\", \"street\"]\n",
        "\n",
        "image_paths = []\n",
        "labels = []\n",
        "label = 0\n",
        "\n",
        "for object in objects:\n",
        "    string = f\"/content/gdrive/My Drive/seg_train/{object}/*.jpg\"\n",
        "\n",
        "    files = glob.glob(string, recursive = True)\n",
        "    image_paths.extend(files)\n",
        "\n",
        "    labels_temp = [label]*len(files)\n",
        "    labels.extend(labels_temp)\n",
        "\n",
        "    label+=1"
      ]
    },
    {
      "cell_type": "markdown",
      "metadata": {
        "id": "LKP8iZ6zFFSb"
      },
      "source": [
        "### Converting the images to features from AlexNet"
      ]
    },
    {
      "cell_type": "code",
      "execution_count": 17,
      "metadata": {
        "id": "Dg8hKN6BFFSc"
      },
      "outputs": [],
      "source": [
        "provider = ImageProvider(image_paths)\n",
        "\n",
        "reqd_images = provider.getImages()\n",
        "\n",
        "# Define transformations for preprocessing images\n",
        "transform = transforms.Compose([\n",
        "    transforms.ToTensor()\n",
        "])\n",
        "\n",
        "full_dataset = CustomDataset(reqd_images, transform=transform)\n",
        "full_loader = DataLoader(full_dataset, batch_size=1, shuffle=False)"
      ]
    },
    {
      "cell_type": "code",
      "execution_count": 18,
      "metadata": {
        "colab": {
          "base_uri": "https://localhost:8080/"
        },
        "id": "wP1eNQi9FFSc",
        "outputId": "39868b42-aa4c-47fd-fcf3-9622c1557eaa"
      },
      "outputs": [
        {
          "name": "stdout",
          "output_type": "stream",
          "text": [
            "(17191, 9216)\n",
            "(17191,)\n"
          ]
        }
      ],
      "source": [
        "# Extract features for all images\n",
        "all_features = []\n",
        "\n",
        "with torch.no_grad():\n",
        "    for images in full_loader:\n",
        "        features = alexnet_model(images)\n",
        "        features = np.reshape(features.squeeze(), -1)\n",
        "        all_features.append(features)\n",
        "\n",
        "all_features = np.array(all_features)\n",
        "print(all_features.shape)\n",
        "labels = np.array(labels)\n",
        "print(labels.shape)"
      ]
    },
    {
      "cell_type": "code",
      "execution_count": 21,
      "metadata": {
        "id": "XsKuiOafVDCd"
      },
      "outputs": [],
      "source": [
        "df = pd.DataFrame(all_features)\n",
        "df.to_csv(\"/content/gdrive/My Drive/features.csv\", index=False)\n",
        "\n",
        "labels_df = pd.DataFrame(labels)\n",
        "labels_df.to_csv(\"/content/gdrive/My Drive/labels.csv\", index=False)"
      ]
    },
    {
      "cell_type": "markdown",
      "metadata": {
        "id": "UGgW0ysgFFSd"
      },
      "source": [
        "### Train Test Split to train model"
      ]
    },
    {
      "cell_type": "code",
      "execution_count": 24,
      "metadata": {
        "id": "y4lZeGvuFFSd"
      },
      "outputs": [],
      "source": [
        "X_train, X_test, y_train, y_test = train_test_split(all_features, labels, test_size=0.2, random_state=42)"
      ]
    },
    {
      "cell_type": "code",
      "execution_count": 25,
      "metadata": {
        "id": "OXGslmM4FFSd"
      },
      "outputs": [],
      "source": [
        "X_train = pd.DataFrame(X_train)\n",
        "Y_train = pd.DataFrame(y_train)\n",
        "X_test = pd.DataFrame(X_test)\n",
        "Y_test = pd.DataFrame(y_test)\n",
        "\n",
        "X_train = pd.concat([X_train, Y_train], axis=1)\n",
        "X_test = pd.concat([X_test, Y_test], axis=1)"
      ]
    },
    {
      "cell_type": "code",
      "execution_count": 26,
      "metadata": {
        "id": "0SFWtJx0FFSe"
      },
      "outputs": [],
      "source": [
        "train_dataset = Data(data=X_train)\n",
        "test_dataset = Data(data=X_test)\n",
        "\n",
        "train_dataloader = DataLoader(dataset=train_dataset, batch_size=128, shuffle=True)\n",
        "test_dataloader = DataLoader(dataset=test_dataset, batch_size=128, shuffle=True)"
      ]
    },
    {
      "cell_type": "markdown",
      "metadata": {
        "id": "7UvlZ3lcFFSe"
      },
      "source": [
        "### Parameters of the model"
      ]
    },
    {
      "cell_type": "code",
      "execution_count": 27,
      "metadata": {
        "id": "-2bOWV1WFFSe"
      },
      "outputs": [],
      "source": [
        "input_size = all_features.shape[1]\n",
        "hidden_size = 256  # Adjust this as needed\n",
        "num_classes = 6\n",
        "\n",
        "classifier = Classifier(input_size, hidden_size, num_classes)\n",
        "\n",
        "# Define loss function and optimizer\n",
        "criterion = nn.CrossEntropyLoss()\n",
        "optimizer = torch.optim.Adam(classifier.parameters(), lr=0.001)\n",
        "\n",
        "sanity_check=False\n",
        "n_epochs = 15"
      ]
    },
    {
      "cell_type": "markdown",
      "metadata": {
        "id": "uIooMY5KFFSe"
      },
      "source": [
        "### Helper functions for Training and Validation"
      ]
    },
    {
      "cell_type": "code",
      "execution_count": 28,
      "metadata": {
        "id": "qU1xUHQGFFSf"
      },
      "outputs": [],
      "source": [
        "def train_epoch(model, dataloader, optimiser, criterion):\n",
        "    model.train()\n",
        "\n",
        "    for batch in tqdm(dataloader):\n",
        "        x, y = batch[0], batch[1]\n",
        "\n",
        "        output = model(x)\n",
        "        output = nn.Softmax(dim=-1)(output)\n",
        "        loss = criterion(output, y)\n",
        "\n",
        "        optimiser.zero_grad()\n",
        "        loss.backward()\n",
        "        optimiser.step()\n",
        "\n",
        "        if sanity_check:\n",
        "            break"
      ]
    },
    {
      "cell_type": "code",
      "execution_count": 29,
      "metadata": {
        "id": "g6HhBKnWFFSf"
      },
      "outputs": [],
      "source": [
        "def validate(\n",
        "    model,\n",
        "    dataloader,\n",
        "    criterion\n",
        "):\n",
        "    model.eval()\n",
        "    total_loss = 0\n",
        "    predictions = []\n",
        "    truths = []\n",
        "\n",
        "    with torch.no_grad():\n",
        "        for batch in tqdm(dataloader):\n",
        "            x, y = batch[0], batch[1]\n",
        "\n",
        "            output = model(x)\n",
        "            output = nn.Softmax(dim=-1)(output)\n",
        "            loss = criterion(output, y)\n",
        "            total_loss += loss.detach().cpu().item()/len(dataloader)\n",
        "\n",
        "            preds = torch.argmax(output, dim=-1)\n",
        "            predictions.extend(preds.cpu())\n",
        "            truths.extend(y.cpu())\n",
        "\n",
        "            if sanity_check:\n",
        "                break\n",
        "\n",
        "    acc = accuracy_score(y_true=truths, y_pred=predictions)\n",
        "    f1 = f1_score(y_true=truths, y_pred=predictions, average='macro')\n",
        "\n",
        "    return total_loss, acc, f1"
      ]
    },
    {
      "cell_type": "code",
      "execution_count": 30,
      "metadata": {
        "id": "QVsQbKjBFFSf"
      },
      "outputs": [],
      "source": [
        "def train_model(\n",
        "    model,\n",
        "    train_dataloader,\n",
        "    test_dataloader,\n",
        "    optimiser,\n",
        "    criterion\n",
        "):\n",
        "    for epoch in range(1, n_epochs+1):\n",
        "        start_time = time.time()\n",
        "\n",
        "        print(f\"========= EPOCH {epoch} STARTED =========\")\n",
        "        train_epoch(model=model, dataloader=train_dataloader, optimiser=optimiser, criterion=criterion)\n",
        "\n",
        "        print(f\"========= TRAIN EVALUATION STARTED =========\")\n",
        "        train_val_op = validate(model=model, dataloader=train_dataloader, criterion=criterion)\n",
        "\n",
        "        print(f\"========= TEST EVALUATION STARTED =========\")\n",
        "        test_val_op = validate(model=model, dataloader=test_dataloader, criterion=criterion)\n",
        "\n",
        "        print(f\"END OF {epoch} EPOCH\")\n",
        "        print(f\"| Time taken: {time.time() - start_time: 7.3f} |\")\n",
        "        print(f\"| Train Loss: {train_val_op[0]: 7.3f} | Train acc: {train_val_op[1]: 1.5f} | Train f1: {train_val_op[2]: 1.5f} |\")\n",
        "        print(f\"| Test Loss: {test_val_op[0]: 7.3f}  | Test acc: {test_val_op[1]: 1.5f}  | Test f1: {test_val_op[2]: 1.5f}  |\")\n",
        "\n",
        "        if sanity_check:\n",
        "            break"
      ]
    },
    {
      "cell_type": "markdown",
      "metadata": {
        "id": "5kCCfXuXFFSg"
      },
      "source": [
        "### Train the model and report accuracies"
      ]
    },
    {
      "cell_type": "code",
      "execution_count": 31,
      "metadata": {
        "colab": {
          "base_uri": "https://localhost:8080/"
        },
        "id": "WF5iolCZFFSg",
        "outputId": "680529a5-0872-405d-b6b2-f6306411e321"
      },
      "outputs": [
        {
          "name": "stdout",
          "output_type": "stream",
          "text": [
            "========= EPOCH 1 STARTED =========\n"
          ]
        },
        {
          "name": "stderr",
          "output_type": "stream",
          "text": [
            "100%|██████████| 108/108 [00:04<00:00, 25.80it/s]\n"
          ]
        },
        {
          "name": "stdout",
          "output_type": "stream",
          "text": [
            "========= TRAIN EVALUATION STARTED =========\n"
          ]
        },
        {
          "name": "stderr",
          "output_type": "stream",
          "text": [
            "100%|██████████| 108/108 [00:02<00:00, 51.43it/s]\n"
          ]
        },
        {
          "name": "stdout",
          "output_type": "stream",
          "text": [
            "========= TEST EVALUATION STARTED =========\n"
          ]
        },
        {
          "name": "stderr",
          "output_type": "stream",
          "text": [
            "100%|██████████| 27/27 [00:00<00:00, 51.29it/s]\n"
          ]
        },
        {
          "name": "stdout",
          "output_type": "stream",
          "text": [
            "END OF 1 EPOCH\n",
            "| Time taken:   8.080 |\n",
            "| Train Loss:   1.558 | Train acc:  0.91259 | Train f1:  0.60973 |\n",
            "| Test Loss:   1.593  | Test acc:  0.87729  | Test f1:  0.75359  |\n",
            "========= EPOCH 2 STARTED =========\n"
          ]
        },
        {
          "name": "stderr",
          "output_type": "stream",
          "text": [
            "100%|██████████| 108/108 [00:04<00:00, 26.31it/s]\n"
          ]
        },
        {
          "name": "stdout",
          "output_type": "stream",
          "text": [
            "========= TRAIN EVALUATION STARTED =========\n"
          ]
        },
        {
          "name": "stderr",
          "output_type": "stream",
          "text": [
            "100%|██████████| 108/108 [00:02<00:00, 53.06it/s]\n"
          ]
        },
        {
          "name": "stdout",
          "output_type": "stream",
          "text": [
            "========= TEST EVALUATION STARTED =========\n"
          ]
        },
        {
          "name": "stderr",
          "output_type": "stream",
          "text": [
            "100%|██████████| 27/27 [00:00<00:00, 41.40it/s]\n"
          ]
        },
        {
          "name": "stdout",
          "output_type": "stream",
          "text": [
            "END OF 2 EPOCH\n",
            "| Time taken:   8.523 |\n",
            "| Train Loss:   1.537 | Train acc:  0.93252 | Train f1:  0.70034 |\n",
            "| Test Loss:   1.582  | Test acc:  0.88456  | Test f1:  0.75956  |\n",
            "========= EPOCH 3 STARTED =========\n"
          ]
        },
        {
          "name": "stderr",
          "output_type": "stream",
          "text": [
            "100%|██████████| 108/108 [00:03<00:00, 27.36it/s]\n"
          ]
        },
        {
          "name": "stdout",
          "output_type": "stream",
          "text": [
            "========= TRAIN EVALUATION STARTED =========\n"
          ]
        },
        {
          "name": "stderr",
          "output_type": "stream",
          "text": [
            "100%|██████████| 108/108 [00:02<00:00, 45.67it/s]\n"
          ]
        },
        {
          "name": "stdout",
          "output_type": "stream",
          "text": [
            "========= TEST EVALUATION STARTED =========\n"
          ]
        },
        {
          "name": "stderr",
          "output_type": "stream",
          "text": [
            "100%|██████████| 27/27 [00:00<00:00, 51.14it/s]\n"
          ]
        },
        {
          "name": "stdout",
          "output_type": "stream",
          "text": [
            "END OF 3 EPOCH\n",
            "| Time taken:   8.087 |\n",
            "| Train Loss:   1.523 | Train acc:  0.94546 | Train f1:  0.71014 |\n",
            "| Test Loss:   1.581  | Test acc:  0.88456  | Test f1:  0.88617  |\n",
            "========= EPOCH 4 STARTED =========\n"
          ]
        },
        {
          "name": "stderr",
          "output_type": "stream",
          "text": [
            "100%|██████████| 108/108 [00:03<00:00, 28.10it/s]\n"
          ]
        },
        {
          "name": "stdout",
          "output_type": "stream",
          "text": [
            "========= TRAIN EVALUATION STARTED =========\n"
          ]
        },
        {
          "name": "stderr",
          "output_type": "stream",
          "text": [
            "100%|██████████| 108/108 [00:02<00:00, 51.35it/s]\n"
          ]
        },
        {
          "name": "stdout",
          "output_type": "stream",
          "text": [
            "========= TEST EVALUATION STARTED =========\n"
          ]
        },
        {
          "name": "stderr",
          "output_type": "stream",
          "text": [
            "100%|██████████| 27/27 [00:00<00:00, 41.19it/s]\n"
          ]
        },
        {
          "name": "stdout",
          "output_type": "stream",
          "text": [
            "END OF 4 EPOCH\n",
            "| Time taken:   8.079 |\n",
            "| Train Loss:   1.513 | Train acc:  0.95244 | Train f1:  0.63579 |\n",
            "| Test Loss:   1.575  | Test acc:  0.88950  | Test f1:  0.89091  |\n",
            "========= EPOCH 5 STARTED =========\n"
          ]
        },
        {
          "name": "stderr",
          "output_type": "stream",
          "text": [
            "100%|██████████| 108/108 [00:03<00:00, 27.37it/s]\n"
          ]
        },
        {
          "name": "stdout",
          "output_type": "stream",
          "text": [
            "========= TRAIN EVALUATION STARTED =========\n"
          ]
        },
        {
          "name": "stderr",
          "output_type": "stream",
          "text": [
            "100%|██████████| 108/108 [00:02<00:00, 52.41it/s]\n"
          ]
        },
        {
          "name": "stdout",
          "output_type": "stream",
          "text": [
            "========= TEST EVALUATION STARTED =========\n"
          ]
        },
        {
          "name": "stderr",
          "output_type": "stream",
          "text": [
            "100%|██████████| 27/27 [00:00<00:00, 51.18it/s]\n"
          ]
        },
        {
          "name": "stdout",
          "output_type": "stream",
          "text": [
            "END OF 5 EPOCH\n",
            "| Time taken:   7.626 |\n",
            "| Train Loss:   1.517 | Train acc:  0.94808 | Train f1:  0.63310 |\n",
            "| Test Loss:   1.584  | Test acc:  0.87962  | Test f1:  0.88155  |\n",
            "========= EPOCH 6 STARTED =========\n"
          ]
        },
        {
          "name": "stderr",
          "output_type": "stream",
          "text": [
            "100%|██████████| 108/108 [00:03<00:00, 28.05it/s]\n"
          ]
        },
        {
          "name": "stdout",
          "output_type": "stream",
          "text": [
            "========= TRAIN EVALUATION STARTED =========\n"
          ]
        },
        {
          "name": "stderr",
          "output_type": "stream",
          "text": [
            "100%|██████████| 108/108 [00:02<00:00, 43.58it/s]\n"
          ]
        },
        {
          "name": "stdout",
          "output_type": "stream",
          "text": [
            "========= TEST EVALUATION STARTED =========\n"
          ]
        },
        {
          "name": "stderr",
          "output_type": "stream",
          "text": [
            "100%|██████████| 27/27 [00:00<00:00, 52.70it/s]\n"
          ]
        },
        {
          "name": "stdout",
          "output_type": "stream",
          "text": [
            "END OF 6 EPOCH\n",
            "| Time taken:   7.927 |\n",
            "| Train Loss:   1.505 | Train acc:  0.96051 | Train f1:  0.64105 |\n",
            "| Test Loss:   1.576  | Test acc:  0.88805  | Test f1:  0.88992  |\n",
            "========= EPOCH 7 STARTED =========\n"
          ]
        },
        {
          "name": "stderr",
          "output_type": "stream",
          "text": [
            "100%|██████████| 108/108 [00:03<00:00, 28.74it/s]\n"
          ]
        },
        {
          "name": "stdout",
          "output_type": "stream",
          "text": [
            "========= TRAIN EVALUATION STARTED =========\n"
          ]
        },
        {
          "name": "stderr",
          "output_type": "stream",
          "text": [
            "100%|██████████| 108/108 [00:02<00:00, 52.80it/s]\n"
          ]
        },
        {
          "name": "stdout",
          "output_type": "stream",
          "text": [
            "========= TEST EVALUATION STARTED =========\n"
          ]
        },
        {
          "name": "stderr",
          "output_type": "stream",
          "text": [
            "100%|██████████| 27/27 [00:00<00:00, 47.29it/s]\n"
          ]
        },
        {
          "name": "stdout",
          "output_type": "stream",
          "text": [
            "END OF 7 EPOCH\n",
            "| Time taken:   7.737 |\n",
            "| Train Loss:   1.498 | Train acc:  0.96568 | Train f1:  0.57992 |\n",
            "| Test Loss:   1.574  | Test acc:  0.89183  | Test f1:  0.89336  |\n",
            "========= EPOCH 8 STARTED =========\n"
          ]
        },
        {
          "name": "stderr",
          "output_type": "stream",
          "text": [
            "100%|██████████| 108/108 [00:04<00:00, 24.93it/s]\n"
          ]
        },
        {
          "name": "stdout",
          "output_type": "stream",
          "text": [
            "========= TRAIN EVALUATION STARTED =========\n"
          ]
        },
        {
          "name": "stderr",
          "output_type": "stream",
          "text": [
            "100%|██████████| 108/108 [00:02<00:00, 53.11it/s]\n"
          ]
        },
        {
          "name": "stdout",
          "output_type": "stream",
          "text": [
            "========= TEST EVALUATION STARTED =========\n"
          ]
        },
        {
          "name": "stderr",
          "output_type": "stream",
          "text": [
            "100%|██████████| 27/27 [00:00<00:00, 52.36it/s]\n"
          ]
        },
        {
          "name": "stdout",
          "output_type": "stream",
          "text": [
            "END OF 8 EPOCH\n",
            "| Time taken:   8.118 |\n",
            "| Train Loss:   1.495 | Train acc:  0.96880 | Train f1:  0.64637 |\n",
            "| Test Loss:   1.576  | Test acc:  0.88892  | Test f1:  0.89079  |\n",
            "========= EPOCH 9 STARTED =========\n"
          ]
        },
        {
          "name": "stderr",
          "output_type": "stream",
          "text": [
            "100%|██████████| 108/108 [00:07<00:00, 15.28it/s]\n"
          ]
        },
        {
          "name": "stdout",
          "output_type": "stream",
          "text": [
            "========= TRAIN EVALUATION STARTED =========\n"
          ]
        },
        {
          "name": "stderr",
          "output_type": "stream",
          "text": [
            "100%|██████████| 108/108 [00:02<00:00, 40.77it/s]\n"
          ]
        },
        {
          "name": "stdout",
          "output_type": "stream",
          "text": [
            "========= TEST EVALUATION STARTED =========\n"
          ]
        },
        {
          "name": "stderr",
          "output_type": "stream",
          "text": [
            "100%|██████████| 27/27 [00:00<00:00, 51.14it/s]\n"
          ]
        },
        {
          "name": "stdout",
          "output_type": "stream",
          "text": [
            "END OF 9 EPOCH\n",
            "| Time taken:  11.501 |\n",
            "| Train Loss:   1.503 | Train acc:  0.96081 | Train f1:  0.64138 |\n",
            "| Test Loss:   1.585  | Test acc:  0.87642  | Test f1:  0.87880  |\n",
            "========= EPOCH 10 STARTED =========\n"
          ]
        },
        {
          "name": "stderr",
          "output_type": "stream",
          "text": [
            "100%|██████████| 108/108 [00:03<00:00, 28.72it/s]\n"
          ]
        },
        {
          "name": "stdout",
          "output_type": "stream",
          "text": [
            "========= TRAIN EVALUATION STARTED =========\n"
          ]
        },
        {
          "name": "stderr",
          "output_type": "stream",
          "text": [
            "100%|██████████| 108/108 [00:02<00:00, 43.74it/s]\n"
          ]
        },
        {
          "name": "stdout",
          "output_type": "stream",
          "text": [
            "========= TEST EVALUATION STARTED =========\n"
          ]
        },
        {
          "name": "stderr",
          "output_type": "stream",
          "text": [
            "100%|██████████| 27/27 [00:00<00:00, 50.97it/s]\n"
          ]
        },
        {
          "name": "stdout",
          "output_type": "stream",
          "text": [
            "END OF 10 EPOCH\n",
            "| Time taken:   8.050 |\n",
            "| Train Loss:   1.493 | Train acc:  0.97033 | Train f1:  0.58267 |\n",
            "| Test Loss:   1.575  | Test acc:  0.88718  | Test f1:  0.88882  |\n",
            "========= EPOCH 11 STARTED =========\n"
          ]
        },
        {
          "name": "stderr",
          "output_type": "stream",
          "text": [
            "100%|██████████| 108/108 [00:03<00:00, 28.23it/s]\n"
          ]
        },
        {
          "name": "stdout",
          "output_type": "stream",
          "text": [
            "========= TRAIN EVALUATION STARTED =========\n"
          ]
        },
        {
          "name": "stderr",
          "output_type": "stream",
          "text": [
            "100%|██████████| 108/108 [00:02<00:00, 52.28it/s]\n"
          ]
        },
        {
          "name": "stdout",
          "output_type": "stream",
          "text": [
            "========= TEST EVALUATION STARTED =========\n"
          ]
        },
        {
          "name": "stderr",
          "output_type": "stream",
          "text": [
            "100%|██████████| 27/27 [00:00<00:00, 50.67it/s]\n"
          ]
        },
        {
          "name": "stdout",
          "output_type": "stream",
          "text": [
            "END OF 11 EPOCH\n",
            "| Time taken:   7.523 |\n",
            "| Train Loss:   1.494 | Train acc:  0.97033 | Train f1:  0.58277 |\n",
            "| Test Loss:   1.580  | Test acc:  0.88514  | Test f1:  0.88714  |\n",
            "========= EPOCH 12 STARTED =========\n"
          ]
        },
        {
          "name": "stderr",
          "output_type": "stream",
          "text": [
            "100%|██████████| 108/108 [00:04<00:00, 26.30it/s]\n"
          ]
        },
        {
          "name": "stdout",
          "output_type": "stream",
          "text": [
            "========= TRAIN EVALUATION STARTED =========\n"
          ]
        },
        {
          "name": "stderr",
          "output_type": "stream",
          "text": [
            "100%|██████████| 108/108 [00:02<00:00, 48.76it/s]\n"
          ]
        },
        {
          "name": "stdout",
          "output_type": "stream",
          "text": [
            "========= TEST EVALUATION STARTED =========\n"
          ]
        },
        {
          "name": "stderr",
          "output_type": "stream",
          "text": [
            "100%|██████████| 27/27 [00:00<00:00, 50.66it/s]\n"
          ]
        },
        {
          "name": "stdout",
          "output_type": "stream",
          "text": [
            "END OF 12 EPOCH\n",
            "| Time taken:   7.945 |\n",
            "| Train Loss:   1.489 | Train acc:  0.97331 | Train f1:  0.64940 |\n",
            "| Test Loss:   1.576  | Test acc:  0.88863  | Test f1:  0.89033  |\n",
            "========= EPOCH 13 STARTED =========\n"
          ]
        },
        {
          "name": "stderr",
          "output_type": "stream",
          "text": [
            "100%|██████████| 108/108 [00:03<00:00, 28.61it/s]\n"
          ]
        },
        {
          "name": "stdout",
          "output_type": "stream",
          "text": [
            "========= TRAIN EVALUATION STARTED =========\n"
          ]
        },
        {
          "name": "stderr",
          "output_type": "stream",
          "text": [
            "100%|██████████| 108/108 [00:02<00:00, 41.68it/s]\n"
          ]
        },
        {
          "name": "stdout",
          "output_type": "stream",
          "text": [
            "========= TEST EVALUATION STARTED =========\n"
          ]
        },
        {
          "name": "stderr",
          "output_type": "stream",
          "text": [
            "100%|██████████| 27/27 [00:00<00:00, 50.53it/s]\n"
          ]
        },
        {
          "name": "stdout",
          "output_type": "stream",
          "text": [
            "END OF 13 EPOCH\n",
            "| Time taken:   7.984 |\n",
            "| Train Loss:   1.490 | Train acc:  0.97244 | Train f1:  0.58406 |\n",
            "| Test Loss:   1.578  | Test acc:  0.88514  | Test f1:  0.88676  |\n",
            "========= EPOCH 14 STARTED =========\n"
          ]
        },
        {
          "name": "stderr",
          "output_type": "stream",
          "text": [
            "100%|██████████| 108/108 [00:03<00:00, 29.05it/s]\n"
          ]
        },
        {
          "name": "stdout",
          "output_type": "stream",
          "text": [
            "========= TRAIN EVALUATION STARTED =========\n"
          ]
        },
        {
          "name": "stderr",
          "output_type": "stream",
          "text": [
            "100%|██████████| 108/108 [00:02<00:00, 48.42it/s]\n"
          ]
        },
        {
          "name": "stdout",
          "output_type": "stream",
          "text": [
            "========= TEST EVALUATION STARTED =========\n"
          ]
        },
        {
          "name": "stderr",
          "output_type": "stream",
          "text": [
            "100%|██████████| 27/27 [00:00<00:00, 51.58it/s]\n"
          ]
        },
        {
          "name": "stdout",
          "output_type": "stream",
          "text": [
            "END OF 14 EPOCH\n",
            "| Time taken:   7.549 |\n",
            "| Train Loss:   1.488 | Train acc:  0.97433 | Train f1:  0.58507 |\n",
            "| Test Loss:   1.578  | Test acc:  0.88311  | Test f1:  0.88523  |\n",
            "========= EPOCH 15 STARTED =========\n"
          ]
        },
        {
          "name": "stderr",
          "output_type": "stream",
          "text": [
            "100%|██████████| 108/108 [00:04<00:00, 26.13it/s]\n"
          ]
        },
        {
          "name": "stdout",
          "output_type": "stream",
          "text": [
            "========= TRAIN EVALUATION STARTED =========\n"
          ]
        },
        {
          "name": "stderr",
          "output_type": "stream",
          "text": [
            "100%|██████████| 108/108 [00:02<00:00, 47.97it/s]\n"
          ]
        },
        {
          "name": "stdout",
          "output_type": "stream",
          "text": [
            "========= TEST EVALUATION STARTED =========\n"
          ]
        },
        {
          "name": "stderr",
          "output_type": "stream",
          "text": [
            "100%|██████████| 27/27 [00:00<00:00, 51.56it/s]\n"
          ]
        },
        {
          "name": "stdout",
          "output_type": "stream",
          "text": [
            "END OF 15 EPOCH\n",
            "| Time taken:   8.003 |\n",
            "| Train Loss:   1.487 | Train acc:  0.97462 | Train f1:  0.58526 |\n",
            "| Test Loss:   1.575  | Test acc:  0.88659  | Test f1:  0.88862  |\n"
          ]
        }
      ],
      "source": [
        "train_model(\n",
        "    model=classifier,\n",
        "    train_dataloader=train_dataloader,\n",
        "    test_dataloader=test_dataloader,\n",
        "    optimiser=optimizer,\n",
        "    criterion=criterion\n",
        ")"
      ]
    }
  ],
  "metadata": {
    "colab": {
      "provenance": [],
      "toc_visible": true
    },
    "kernelspec": {
      "display_name": "base",
      "language": "python",
      "name": "python3"
    },
    "language_info": {
      "codemirror_mode": {
        "name": "ipython",
        "version": 3
      },
      "file_extension": ".py",
      "mimetype": "text/x-python",
      "name": "python",
      "nbconvert_exporter": "python",
      "pygments_lexer": "ipython3",
      "version": "3.10.13"
    }
  },
  "nbformat": 4,
  "nbformat_minor": 0
}
